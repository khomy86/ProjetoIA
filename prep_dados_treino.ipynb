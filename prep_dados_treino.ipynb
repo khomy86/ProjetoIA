{
  "nbformat": 4,
  "nbformat_minor": 0,
  "metadata": {
    "colab": {
      "provenance": []
    },
    "kernelspec": {
      "name": "python3",
      "display_name": "Python 3"
    },
    "language_info": {
      "name": "python"
    }
  },
  "cells": [
    {
      "cell_type": "code",
      "source": [
        "# Instalação das bibliotecas necessárias\n",
        "!pip install pandas numpy scikit-learn xgboost category_encoders\n",
        "\n",
        "import pandas as pd\n",
        "import numpy as np\n",
        "from sklearn.model_selection import train_test_split\n",
        "from sklearn.preprocessing import StandardScaler, LabelEncoder\n",
        "from category_encoders import TargetEncoder\n",
        "from sklearn.metrics import mean_absolute_error, mean_squared_error, r2_score\n",
        "from datetime import datetime\n",
        "from google.colab import drive\n",
        "\n",
        "\n",
        "# Carregar os dados\n",
        "caminho_arquivo = '/content/drive/MyDrive/ProjetoIA/voos_filtrados.csv'\n",
        "df = pd.read_csv(caminho_arquivo)\n",
        "\n",
        "# Converter datas\n",
        "df['searchDate'] = pd.to_datetime(df['searchDate'])\n",
        "df['flightDate'] = pd.to_datetime(df['flightDate'])\n",
        "\n",
        "# Feature Engineering\n",
        "def prepare_features(df):\n",
        "    # Features temporais\n",
        "    df['dias_ate_voo'] = (df['flightDate'] - df['searchDate']).dt.days\n",
        "    df['mes_voo'] = df['flightDate'].dt.month\n",
        "    df['dia_semana_voo'] = df['flightDate'].dt.dayofweek\n",
        "    df['mes_pesquisa'] = df['searchDate'].dt.month\n",
        "    df['dia_semana_pesquisa'] = df['searchDate'].dt.dayofweek\n",
        "\n",
        "    # Codificar variáveis categóricas\n",
        "    target_encoder = TargetEncoder()\n",
        "    df['startingAirport_encoded'] = target_encoder.fit_transform(df['startingAirport'], df['totalFare'])\n",
        "    df['destinationAirport_encoded'] = target_encoder.fit_transform(df['destinationAirport'], df['totalFare'])\n",
        "    df['airline_encoded'] = target_encoder.fit_transform(df['segmentsAirlineName'], df['totalFare'])\n",
        "\n",
        "    # Selecionar features para o modelo\n",
        "    features = [\n",
        "        'dias_ate_voo',\n",
        "        'mes_voo',\n",
        "        'dia_semana_voo',\n",
        "        'mes_pesquisa',\n",
        "        'dia_semana_pesquisa',\n",
        "        'startingAirport_encoded',\n",
        "        'destinationAirport_encoded',\n",
        "        'airline_encoded'\n",
        "    ]\n",
        "\n",
        "    return df, features\n",
        "\n",
        "# Preparar dados\n",
        "df, features = prepare_features(df)\n",
        "\n",
        "# Separar features (X) e target (y)\n",
        "X = df[features]\n",
        "y = df['totalFare']\n",
        "\n",
        "# Dividir em treino e teste\n",
        "X_train, X_test, y_train, y_test = train_test_split(\n",
        "    X, y, test_size=0.2, random_state=42\n",
        ")\n",
        "\n",
        "# Normalizar as features\n",
        "scaler = StandardScaler()\n",
        "X_train_scaled = scaler.fit_transform(X_train)\n",
        "X_test_scaled = scaler.transform(X_test)\n",
        "\n",
        "# Converter para DataFrame mantendo os nomes das colunas\n",
        "X_train_scaled = pd.DataFrame(X_train_scaled, columns=features)\n",
        "X_test_scaled = pd.DataFrame(X_test_scaled, columns=features)\n",
        "\n",
        "print(\"Forma dos dados de treino:\", X_train_scaled.shape)\n",
        "print(\"Forma dos dados de teste:\", X_test_scaled.shape)\n",
        "\n",
        "# Salvar os dados preparados para uso posterior\n",
        "np.save('/content/drive/MyDrive/ProjetoIA/X_train.npy', X_train_scaled)\n",
        "np.save('/content/drive/MyDrive/ProjetoIA/X_test.npy', X_test_scaled)\n",
        "np.save('/content/drive/MyDrive/ProjetoIA/y_train.npy', y_train)\n",
        "np.save('/content/drive/MyDrive/ProjetoIA/y_test.npy', y_test)"
      ],
      "metadata": {
        "colab": {
          "base_uri": "https://localhost:8080/"
        },
        "id": "Gk7fSohdiXm-",
        "outputId": "112265f5-94af-4b2a-b3bf-e51f4f5a7a98"
      },
      "execution_count": 7,
      "outputs": [
        {
          "output_type": "stream",
          "name": "stdout",
          "text": [
            "Requirement already satisfied: pandas in /usr/local/lib/python3.11/dist-packages (2.2.2)\n",
            "Requirement already satisfied: numpy in /usr/local/lib/python3.11/dist-packages (1.26.4)\n",
            "Requirement already satisfied: scikit-learn in /usr/local/lib/python3.11/dist-packages (1.6.1)\n",
            "Requirement already satisfied: xgboost in /usr/local/lib/python3.11/dist-packages (2.1.3)\n",
            "Requirement already satisfied: category_encoders in /usr/local/lib/python3.11/dist-packages (2.8.0)\n",
            "Requirement already satisfied: python-dateutil>=2.8.2 in /usr/local/lib/python3.11/dist-packages (from pandas) (2.8.2)\n",
            "Requirement already satisfied: pytz>=2020.1 in /usr/local/lib/python3.11/dist-packages (from pandas) (2024.2)\n",
            "Requirement already satisfied: tzdata>=2022.7 in /usr/local/lib/python3.11/dist-packages (from pandas) (2025.1)\n",
            "Requirement already satisfied: scipy>=1.6.0 in /usr/local/lib/python3.11/dist-packages (from scikit-learn) (1.13.1)\n",
            "Requirement already satisfied: joblib>=1.2.0 in /usr/local/lib/python3.11/dist-packages (from scikit-learn) (1.4.2)\n",
            "Requirement already satisfied: threadpoolctl>=3.1.0 in /usr/local/lib/python3.11/dist-packages (from scikit-learn) (3.5.0)\n",
            "Requirement already satisfied: nvidia-nccl-cu12 in /usr/local/lib/python3.11/dist-packages (from xgboost) (2.21.5)\n",
            "Requirement already satisfied: patsy>=0.5.1 in /usr/local/lib/python3.11/dist-packages (from category_encoders) (1.0.1)\n",
            "Requirement already satisfied: statsmodels>=0.9.0 in /usr/local/lib/python3.11/dist-packages (from category_encoders) (0.14.4)\n",
            "Requirement already satisfied: six>=1.5 in /usr/local/lib/python3.11/dist-packages (from python-dateutil>=2.8.2->pandas) (1.17.0)\n",
            "Requirement already satisfied: packaging>=21.3 in /usr/local/lib/python3.11/dist-packages (from statsmodels>=0.9.0->category_encoders) (24.2)\n",
            "Forma dos dados de treino: (17653510, 8)\n",
            "Forma dos dados de teste: (4413378, 8)\n"
          ]
        }
      ]
    }
  ]
}